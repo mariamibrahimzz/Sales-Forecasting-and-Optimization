{
 "cells": [
  {
   "cell_type": "code",
   "execution_count": 2,
   "id": "2147e442",
   "metadata": {},
   "outputs": [],
   "source": [
    "import dash\n",
    "from dash import dcc, html, Input, Output\n",
    "import pandas as pd\n",
    "import plotly.express as px"
   ]
  },
  {
   "cell_type": "code",
   "execution_count": 3,
   "id": "5469af21",
   "metadata": {},
   "outputs": [],
   "source": [
    "df = pd.read_csv('D:/DEPI/retail_store_inventory/retail_store_inventory.csv')\n",
    "df['Date'] = pd.to_datetime(df['Date'])\n"
   ]
  },
  {
   "cell_type": "code",
   "execution_count": 4,
   "id": "415f0d6f",
   "metadata": {},
   "outputs": [],
   "source": [
    "# Initialize Dash App\n",
    "app = dash.Dash(__name__)\n",
    "\n",
    "\n",
    "app.layout = html.Div([\n",
    "    html.H1('Retail Sales Dashboard', style={'textAlign': 'center'}),\n",
    "\n",
    "    html.Div([\n",
    "        html.Label('Select Category:'),\n",
    "        dcc.Dropdown(\n",
    "            id='category-dropdown',\n",
    "            options=[{'label': cat, 'value': cat} for cat in df['Category'].unique()],\n",
    "            multi=True,\n",
    "            placeholder=\"Select Category\"\n",
    "        ),\n",
    "\n",
    "        html.Label('Select Region:'),\n",
    "        dcc.Dropdown(\n",
    "            id='region-dropdown',\n",
    "            options=[{'label': region, 'value': region} for region in df['Region'].unique()],\n",
    "            multi=True,\n",
    "            placeholder=\"Select Region\"\n",
    "        ), \n",
    "        \n",
    "        html.Label('Select Date Range:'),\n",
    "        dcc.DatePickerRange(\n",
    "            id='date-range-picker',\n",
    "            start_date=df['Date'].min(),\n",
    "            end_date=df['Date'].max()\n",
    "        ),\n",
    "    ], style={'width': '25%', 'display': 'inline-block', 'verticalAlign': 'top', 'padding': '20px'}),\n",
    "\n",
    "    html.Div([\n",
    "        dcc.Graph(id='sales-trend-graph')\n",
    "    ], style={'width': '70%', 'display': 'inline-block', 'padding': '20px'}),\n",
    "])\n"
   ]
  },
  {
   "cell_type": "code",
   "execution_count": 5,
   "id": "25a4f526",
   "metadata": {},
   "outputs": [
    {
     "data": {
      "text/html": [
       "\n",
       "        <iframe\n",
       "            width=\"100%\"\n",
       "            height=\"650\"\n",
       "            src=\"http://127.0.0.1:8050/\"\n",
       "            frameborder=\"0\"\n",
       "            allowfullscreen\n",
       "            \n",
       "        ></iframe>\n",
       "        "
      ],
      "text/plain": [
       "<IPython.lib.display.IFrame at 0x2f42ffe08c0>"
      ]
     },
     "metadata": {},
     "output_type": "display_data"
    }
   ],
   "source": [
    "# Callback for updating graph\n",
    "@app.callback(\n",
    "    Output('sales-trend-graph', 'figure'),\n",
    "    Input('category-dropdown', 'value'),\n",
    "    Input('region-dropdown', 'value'),\n",
    "    Input('date-range-picker', 'start_date'),\n",
    "    Input('date-range-picker', 'end_date')\n",
    ")\n",
    "def update_graph(selected_categories, selected_regions, start_date, end_date):\n",
    "    # Filter dataset\n",
    "    filtered_df = df.copy()\n",
    "\n",
    "    if selected_categories:\n",
    "        filtered_df = filtered_df[filtered_df['Category'].isin(selected_categories)]\n",
    "\n",
    "    if selected_regions:\n",
    "        filtered_df = filtered_df[filtered_df['Region'].isin(selected_regions)]\n",
    "\n",
    "    filtered_df = filtered_df[(filtered_df['Date'] >= start_date) & (filtered_df['Date'] <= end_date)]\n",
    "\n",
    "    # Group by Date\n",
    "    sales_by_date = filtered_df.groupby('Date')['Units Sold'].sum().reset_index()\n",
    "\n",
    "    # Plot\n",
    "    fig = px.line(sales_by_date, x='Date', y='Units Sold', title='Daily Sales Trend')\n",
    "    fig.update_traces(line_color='blue')\n",
    "\n",
    "    return fig\n",
    "\n",
    "# Run the app\n",
    "if __name__ == '__main__':\n",
    "    app.run(debug=True)"
   ]
  }
 ],
 "metadata": {
  "kernelspec": {
   "display_name": "base",
   "language": "python",
   "name": "python3"
  },
  "language_info": {
   "codemirror_mode": {
    "name": "ipython",
    "version": 3
   },
   "file_extension": ".py",
   "mimetype": "text/x-python",
   "name": "python",
   "nbconvert_exporter": "python",
   "pygments_lexer": "ipython3",
   "version": "3.12.7"
  }
 },
 "nbformat": 4,
 "nbformat_minor": 5
}
