{
 "cells": [
  {
   "cell_type": "markdown",
   "id": "438a784f",
   "metadata": {},
   "source": [
    "## Data Description"
   ]
  },
  {
   "cell_type": "markdown",
   "id": "41ddbfed",
   "metadata": {},
   "source": [
    "### Key Data Features\n",
    "`Date` : Daily records from [start_date] to [end_date].\n",
    "    \n",
    "`Store ID & Product ID`: Unique identifiers for stores and products.\n",
    "\n",
    "`Category`: Product categories like Electronics, Clothing, Groceries, etc.\n",
    "\n",
    "`Region`: Geographic region of the store.\n",
    "\n",
    "`Inventory Level`: Stock available at the beginning of the day.\n",
    "    \n",
    "`Units Sold`: Units sold during the day.\n",
    "    \n",
    "`Demand Forecast`: Predicted demand based on past trends.\n",
    "\n",
    "`Weather Condition`: Daily weather impacting sales.\n",
    "    \n",
    "`Holiday/Promotion`: Indicators for holidays or promotions."
   ]
  },
  {
   "cell_type": "code",
   "execution_count": 3,
   "id": "52687c80",
   "metadata": {},
   "outputs": [],
   "source": [
    "import pandas as pd\n",
    "import numpy as np\n",
    "import matplotlib.pyplot as plt\n",
    "import seaborn as sns"
   ]
  },
  {
   "cell_type": "code",
   "execution_count": 4,
   "id": "7465dda0",
   "metadata": {},
   "outputs": [],
   "source": [
    "df = pd.read_csv('retail_store_inventory.csv')"
   ]
  },
  {
   "cell_type": "code",
   "execution_count": 3,
   "id": "f423311a",
   "metadata": {},
   "outputs": [
    {
     "data": {
      "text/html": [
       "<div>\n",
       "<style scoped>\n",
       "    .dataframe tbody tr th:only-of-type {\n",
       "        vertical-align: middle;\n",
       "    }\n",
       "\n",
       "    .dataframe tbody tr th {\n",
       "        vertical-align: top;\n",
       "    }\n",
       "\n",
       "    .dataframe thead th {\n",
       "        text-align: right;\n",
       "    }\n",
       "</style>\n",
       "<table border=\"1\" class=\"dataframe\">\n",
       "  <thead>\n",
       "    <tr style=\"text-align: right;\">\n",
       "      <th></th>\n",
       "      <th>Date</th>\n",
       "      <th>Store ID</th>\n",
       "      <th>Product ID</th>\n",
       "      <th>Category</th>\n",
       "      <th>Region</th>\n",
       "      <th>Inventory Level</th>\n",
       "      <th>Units Sold</th>\n",
       "      <th>Units Ordered</th>\n",
       "      <th>Demand Forecast</th>\n",
       "      <th>Price</th>\n",
       "      <th>Discount</th>\n",
       "      <th>Weather Condition</th>\n",
       "      <th>Holiday/Promotion</th>\n",
       "      <th>Competitor Pricing</th>\n",
       "      <th>Seasonality</th>\n",
       "    </tr>\n",
       "  </thead>\n",
       "  <tbody>\n",
       "    <tr>\n",
       "      <th>0</th>\n",
       "      <td>1/1/2022</td>\n",
       "      <td>S001</td>\n",
       "      <td>P0001</td>\n",
       "      <td>Groceries</td>\n",
       "      <td>North</td>\n",
       "      <td>231</td>\n",
       "      <td>127</td>\n",
       "      <td>55.0</td>\n",
       "      <td>135.47</td>\n",
       "      <td>33.50</td>\n",
       "      <td>20</td>\n",
       "      <td>Rainy</td>\n",
       "      <td>0.0</td>\n",
       "      <td>29.69</td>\n",
       "      <td>Autumn</td>\n",
       "    </tr>\n",
       "    <tr>\n",
       "      <th>1</th>\n",
       "      <td>1/1/2022</td>\n",
       "      <td>S001</td>\n",
       "      <td>P0002</td>\n",
       "      <td>Toys</td>\n",
       "      <td>South</td>\n",
       "      <td>204</td>\n",
       "      <td>150</td>\n",
       "      <td>66.0</td>\n",
       "      <td>144.04</td>\n",
       "      <td>63.01</td>\n",
       "      <td>20</td>\n",
       "      <td>Sunny</td>\n",
       "      <td>0.0</td>\n",
       "      <td>66.16</td>\n",
       "      <td>Autumn</td>\n",
       "    </tr>\n",
       "    <tr>\n",
       "      <th>2</th>\n",
       "      <td>1/1/2022</td>\n",
       "      <td>S001</td>\n",
       "      <td>P0003</td>\n",
       "      <td>Toys</td>\n",
       "      <td>West</td>\n",
       "      <td>102</td>\n",
       "      <td>65</td>\n",
       "      <td>51.0</td>\n",
       "      <td>74.02</td>\n",
       "      <td>27.99</td>\n",
       "      <td>10</td>\n",
       "      <td>NaN</td>\n",
       "      <td>1.0</td>\n",
       "      <td>31.32</td>\n",
       "      <td>Summer</td>\n",
       "    </tr>\n",
       "    <tr>\n",
       "      <th>3</th>\n",
       "      <td>1/1/2022</td>\n",
       "      <td>S001</td>\n",
       "      <td>P0004</td>\n",
       "      <td>Toys</td>\n",
       "      <td>North</td>\n",
       "      <td>469</td>\n",
       "      <td>61</td>\n",
       "      <td>NaN</td>\n",
       "      <td>62.18</td>\n",
       "      <td>32.72</td>\n",
       "      <td>10</td>\n",
       "      <td>Cloudy</td>\n",
       "      <td>1.0</td>\n",
       "      <td>34.74</td>\n",
       "      <td>Autumn</td>\n",
       "    </tr>\n",
       "    <tr>\n",
       "      <th>4</th>\n",
       "      <td>1/1/2022</td>\n",
       "      <td>S001</td>\n",
       "      <td>P0005</td>\n",
       "      <td>Electronics</td>\n",
       "      <td>East</td>\n",
       "      <td>166</td>\n",
       "      <td>14</td>\n",
       "      <td>135.0</td>\n",
       "      <td>9.26</td>\n",
       "      <td>73.64</td>\n",
       "      <td>0</td>\n",
       "      <td>Sunny</td>\n",
       "      <td>0.0</td>\n",
       "      <td>68.95</td>\n",
       "      <td>Summer</td>\n",
       "    </tr>\n",
       "    <tr>\n",
       "      <th>5</th>\n",
       "      <td>1/1/2022</td>\n",
       "      <td>S001</td>\n",
       "      <td>P0006</td>\n",
       "      <td>Groceries</td>\n",
       "      <td>South</td>\n",
       "      <td>138</td>\n",
       "      <td>128</td>\n",
       "      <td>102.0</td>\n",
       "      <td>139.82</td>\n",
       "      <td>76.83</td>\n",
       "      <td>10</td>\n",
       "      <td>Sunny</td>\n",
       "      <td>1.0</td>\n",
       "      <td>79.35</td>\n",
       "      <td>Winter</td>\n",
       "    </tr>\n",
       "    <tr>\n",
       "      <th>6</th>\n",
       "      <td>1/1/2022</td>\n",
       "      <td>S001</td>\n",
       "      <td>P0007</td>\n",
       "      <td>Furniture</td>\n",
       "      <td>East</td>\n",
       "      <td>359</td>\n",
       "      <td>97</td>\n",
       "      <td>167.0</td>\n",
       "      <td>108.92</td>\n",
       "      <td>34.16</td>\n",
       "      <td>10</td>\n",
       "      <td>Rainy</td>\n",
       "      <td>1.0</td>\n",
       "      <td>36.55</td>\n",
       "      <td>Winter</td>\n",
       "    </tr>\n",
       "    <tr>\n",
       "      <th>7</th>\n",
       "      <td>1/1/2022</td>\n",
       "      <td>S001</td>\n",
       "      <td>P0008</td>\n",
       "      <td>Clothing</td>\n",
       "      <td>North</td>\n",
       "      <td>380</td>\n",
       "      <td>312</td>\n",
       "      <td>54.0</td>\n",
       "      <td>329.73</td>\n",
       "      <td>97.99</td>\n",
       "      <td>5</td>\n",
       "      <td>NaN</td>\n",
       "      <td>0.0</td>\n",
       "      <td>100.09</td>\n",
       "      <td>Spring</td>\n",
       "    </tr>\n",
       "    <tr>\n",
       "      <th>8</th>\n",
       "      <td>1/1/2022</td>\n",
       "      <td>S001</td>\n",
       "      <td>P0009</td>\n",
       "      <td>Electronics</td>\n",
       "      <td>West</td>\n",
       "      <td>183</td>\n",
       "      <td>175</td>\n",
       "      <td>135.0</td>\n",
       "      <td>174.15</td>\n",
       "      <td>20.74</td>\n",
       "      <td>10</td>\n",
       "      <td>Cloudy</td>\n",
       "      <td>0.0</td>\n",
       "      <td>17.66</td>\n",
       "      <td>Autumn</td>\n",
       "    </tr>\n",
       "    <tr>\n",
       "      <th>9</th>\n",
       "      <td>1/1/2022</td>\n",
       "      <td>S001</td>\n",
       "      <td>P0010</td>\n",
       "      <td>Toys</td>\n",
       "      <td>South</td>\n",
       "      <td>108</td>\n",
       "      <td>28</td>\n",
       "      <td>196.0</td>\n",
       "      <td>24.47</td>\n",
       "      <td>59.99</td>\n",
       "      <td>0</td>\n",
       "      <td>Rainy</td>\n",
       "      <td>1.0</td>\n",
       "      <td>61.21</td>\n",
       "      <td>Winter</td>\n",
       "    </tr>\n",
       "  </tbody>\n",
       "</table>\n",
       "</div>"
      ],
      "text/plain": [
       "       Date Store ID Product ID     Category Region  Inventory Level  \\\n",
       "0  1/1/2022     S001      P0001    Groceries  North              231   \n",
       "1  1/1/2022     S001      P0002         Toys  South              204   \n",
       "2  1/1/2022     S001      P0003         Toys   West              102   \n",
       "3  1/1/2022     S001      P0004         Toys  North              469   \n",
       "4  1/1/2022     S001      P0005  Electronics   East              166   \n",
       "5  1/1/2022     S001      P0006    Groceries  South              138   \n",
       "6  1/1/2022     S001      P0007    Furniture   East              359   \n",
       "7  1/1/2022     S001      P0008     Clothing  North              380   \n",
       "8  1/1/2022     S001      P0009  Electronics   West              183   \n",
       "9  1/1/2022     S001      P0010         Toys  South              108   \n",
       "\n",
       "   Units Sold  Units Ordered  Demand Forecast  Price  Discount  \\\n",
       "0         127           55.0           135.47  33.50        20   \n",
       "1         150           66.0           144.04  63.01        20   \n",
       "2          65           51.0            74.02  27.99        10   \n",
       "3          61            NaN            62.18  32.72        10   \n",
       "4          14          135.0             9.26  73.64         0   \n",
       "5         128          102.0           139.82  76.83        10   \n",
       "6          97          167.0           108.92  34.16        10   \n",
       "7         312           54.0           329.73  97.99         5   \n",
       "8         175          135.0           174.15  20.74        10   \n",
       "9          28          196.0            24.47  59.99         0   \n",
       "\n",
       "  Weather Condition  Holiday/Promotion  Competitor Pricing Seasonality  \n",
       "0             Rainy                0.0               29.69      Autumn  \n",
       "1             Sunny                0.0               66.16      Autumn  \n",
       "2               NaN                1.0               31.32      Summer  \n",
       "3            Cloudy                1.0               34.74      Autumn  \n",
       "4             Sunny                0.0               68.95      Summer  \n",
       "5             Sunny                1.0               79.35      Winter  \n",
       "6             Rainy                1.0               36.55      Winter  \n",
       "7               NaN                0.0              100.09      Spring  \n",
       "8            Cloudy                0.0               17.66      Autumn  \n",
       "9             Rainy                1.0               61.21      Winter  "
      ]
     },
     "execution_count": 3,
     "metadata": {},
     "output_type": "execute_result"
    }
   ],
   "source": [
    "df.head(10)\n"
   ]
  },
  {
   "cell_type": "code",
   "execution_count": 4,
   "id": "95e9a920",
   "metadata": {},
   "outputs": [
    {
     "name": "stdout",
     "output_type": "stream",
     "text": [
      "<class 'pandas.core.frame.DataFrame'>\n",
      "RangeIndex: 73100 entries, 0 to 73099\n",
      "Data columns (total 15 columns):\n",
      " #   Column              Non-Null Count  Dtype  \n",
      "---  ------              --------------  -----  \n",
      " 0   Date                73100 non-null  object \n",
      " 1   Store ID            73100 non-null  object \n",
      " 2   Product ID          73100 non-null  object \n",
      " 3   Category            73100 non-null  object \n",
      " 4   Region              73079 non-null  object \n",
      " 5   Inventory Level     73100 non-null  int64  \n",
      " 6   Units Sold          73100 non-null  int64  \n",
      " 7   Units Ordered       73069 non-null  float64\n",
      " 8   Demand Forecast     73100 non-null  float64\n",
      " 9   Price               73100 non-null  float64\n",
      " 10  Discount            73100 non-null  int64  \n",
      " 11  Weather Condition   73073 non-null  object \n",
      " 12  Holiday/Promotion   73094 non-null  float64\n",
      " 13  Competitor Pricing  73100 non-null  float64\n",
      " 14  Seasonality         73093 non-null  object \n",
      "dtypes: float64(5), int64(3), object(7)\n",
      "memory usage: 8.4+ MB\n"
     ]
    }
   ],
   "source": [
    "df.info()\n"
   ]
  },
  {
   "cell_type": "markdown",
   "id": "b7f44454",
   "metadata": {},
   "source": [
    "## Navigating the missing values"
   ]
  },
  {
   "cell_type": "code",
   "execution_count": 5,
   "id": "d035294e",
   "metadata": {},
   "outputs": [
    {
     "data": {
      "text/plain": [
       "Date                   0\n",
       "Store ID               0\n",
       "Product ID             0\n",
       "Category               0\n",
       "Region                21\n",
       "Inventory Level        0\n",
       "Units Sold             0\n",
       "Units Ordered         31\n",
       "Demand Forecast        0\n",
       "Price                  0\n",
       "Discount               0\n",
       "Weather Condition     27\n",
       "Holiday/Promotion      6\n",
       "Competitor Pricing     0\n",
       "Seasonality            7\n",
       "dtype: int64"
      ]
     },
     "execution_count": 5,
     "metadata": {},
     "output_type": "execute_result"
    }
   ],
   "source": [
    "df.isnull().sum()\n"
   ]
  },
  {
   "cell_type": "markdown",
   "id": "551bb1bb",
   "metadata": {},
   "source": [
    "## Navigating the data types of each column"
   ]
  },
  {
   "cell_type": "code",
   "execution_count": 6,
   "id": "bdfa0484",
   "metadata": {},
   "outputs": [
    {
     "data": {
      "text/plain": [
       "Date                   object\n",
       "Store ID               object\n",
       "Product ID             object\n",
       "Category               object\n",
       "Region                 object\n",
       "Inventory Level         int64\n",
       "Units Sold              int64\n",
       "Units Ordered         float64\n",
       "Demand Forecast       float64\n",
       "Price                 float64\n",
       "Discount                int64\n",
       "Weather Condition      object\n",
       "Holiday/Promotion     float64\n",
       "Competitor Pricing    float64\n",
       "Seasonality            object\n",
       "dtype: object"
      ]
     },
     "execution_count": 6,
     "metadata": {},
     "output_type": "execute_result"
    }
   ],
   "source": [
    "df.dtypes\n"
   ]
  },
  {
   "cell_type": "markdown",
   "id": "06f62abd",
   "metadata": {},
   "source": [
    "#### This function calculates key summary statistics (count, mean, std, min, max, quartiles) for important numeric columns related to sales performance.\n",
    "It also ensures the columns exist before attempting to describe them."
   ]
  },
  {
   "cell_type": "code",
   "execution_count": 7,
   "id": "a71656e8",
   "metadata": {},
   "outputs": [
    {
     "data": {
      "text/html": [
       "<div>\n",
       "<style scoped>\n",
       "    .dataframe tbody tr th:only-of-type {\n",
       "        vertical-align: middle;\n",
       "    }\n",
       "\n",
       "    .dataframe tbody tr th {\n",
       "        vertical-align: top;\n",
       "    }\n",
       "\n",
       "    .dataframe thead th {\n",
       "        text-align: right;\n",
       "    }\n",
       "</style>\n",
       "<table border=\"1\" class=\"dataframe\">\n",
       "  <thead>\n",
       "    <tr style=\"text-align: right;\">\n",
       "      <th></th>\n",
       "      <th>Units Sold</th>\n",
       "      <th>Units Ordered</th>\n",
       "      <th>Demand Forecast</th>\n",
       "      <th>Price</th>\n",
       "      <th>Discount</th>\n",
       "    </tr>\n",
       "  </thead>\n",
       "  <tbody>\n",
       "    <tr>\n",
       "      <th>count</th>\n",
       "      <td>73100.000000</td>\n",
       "      <td>73069.000000</td>\n",
       "      <td>73100.000000</td>\n",
       "      <td>73100.000000</td>\n",
       "      <td>73100.000000</td>\n",
       "    </tr>\n",
       "    <tr>\n",
       "      <th>mean</th>\n",
       "      <td>136.464870</td>\n",
       "      <td>109.999589</td>\n",
       "      <td>141.494720</td>\n",
       "      <td>55.135108</td>\n",
       "      <td>10.009508</td>\n",
       "    </tr>\n",
       "    <tr>\n",
       "      <th>std</th>\n",
       "      <td>108.919406</td>\n",
       "      <td>52.276573</td>\n",
       "      <td>109.254076</td>\n",
       "      <td>26.021945</td>\n",
       "      <td>7.083746</td>\n",
       "    </tr>\n",
       "    <tr>\n",
       "      <th>min</th>\n",
       "      <td>0.000000</td>\n",
       "      <td>20.000000</td>\n",
       "      <td>-9.990000</td>\n",
       "      <td>10.000000</td>\n",
       "      <td>0.000000</td>\n",
       "    </tr>\n",
       "    <tr>\n",
       "      <th>25%</th>\n",
       "      <td>49.000000</td>\n",
       "      <td>65.000000</td>\n",
       "      <td>53.670000</td>\n",
       "      <td>32.650000</td>\n",
       "      <td>5.000000</td>\n",
       "    </tr>\n",
       "    <tr>\n",
       "      <th>50%</th>\n",
       "      <td>107.000000</td>\n",
       "      <td>110.000000</td>\n",
       "      <td>113.015000</td>\n",
       "      <td>55.050000</td>\n",
       "      <td>10.000000</td>\n",
       "    </tr>\n",
       "    <tr>\n",
       "      <th>75%</th>\n",
       "      <td>203.000000</td>\n",
       "      <td>155.000000</td>\n",
       "      <td>208.052500</td>\n",
       "      <td>77.860000</td>\n",
       "      <td>15.000000</td>\n",
       "    </tr>\n",
       "    <tr>\n",
       "      <th>max</th>\n",
       "      <td>499.000000</td>\n",
       "      <td>200.000000</td>\n",
       "      <td>518.550000</td>\n",
       "      <td>100.000000</td>\n",
       "      <td>20.000000</td>\n",
       "    </tr>\n",
       "  </tbody>\n",
       "</table>\n",
       "</div>"
      ],
      "text/plain": [
       "         Units Sold  Units Ordered  Demand Forecast         Price  \\\n",
       "count  73100.000000   73069.000000     73100.000000  73100.000000   \n",
       "mean     136.464870     109.999589       141.494720     55.135108   \n",
       "std      108.919406      52.276573       109.254076     26.021945   \n",
       "min        0.000000      20.000000        -9.990000     10.000000   \n",
       "25%       49.000000      65.000000        53.670000     32.650000   \n",
       "50%      107.000000     110.000000       113.015000     55.050000   \n",
       "75%      203.000000     155.000000       208.052500     77.860000   \n",
       "max      499.000000     200.000000       518.550000    100.000000   \n",
       "\n",
       "           Discount  \n",
       "count  73100.000000  \n",
       "mean      10.009508  \n",
       "std        7.083746  \n",
       "min        0.000000  \n",
       "25%        5.000000  \n",
       "50%       10.000000  \n",
       "75%       15.000000  \n",
       "max       20.000000  "
      ]
     },
     "execution_count": 7,
     "metadata": {},
     "output_type": "execute_result"
    }
   ],
   "source": [
    "def summary_statistics(df):\n",
    "    cols = [\"Units Sold\", \"Units Ordered\", \"Demand Forecast\", \"Price\", \"Discount\"]\n",
    "    selected_cols = [col for col in cols if col in df.columns]  # ensure columns exist\n",
    "    return df[selected_cols].describe()\n",
    "\n",
    "summary_statistics(df)\n"
   ]
  },
  {
   "cell_type": "markdown",
   "id": "fe9a37ea",
   "metadata": {},
   "source": [
    "## Check the all possible options"
   ]
  },
  {
   "cell_type": "code",
   "execution_count": 9,
   "id": "5f610e54",
   "metadata": {},
   "outputs": [
    {
     "data": {
      "text/plain": [
       "array(['Groceries', 'Toys', 'Electronics', 'Furniture', 'Clothing'],\n",
       "      dtype=object)"
      ]
     },
     "execution_count": 9,
     "metadata": {},
     "output_type": "execute_result"
    }
   ],
   "source": [
    "df['Category'].unique()\n",
    "\n"
   ]
  },
  {
   "cell_type": "code",
   "execution_count": 10,
   "id": "7b938797",
   "metadata": {},
   "outputs": [
    {
     "data": {
      "text/plain": [
       "array(['North', 'South', 'West', 'East', nan], dtype=object)"
      ]
     },
     "execution_count": 10,
     "metadata": {},
     "output_type": "execute_result"
    }
   ],
   "source": [
    "df['Region'].unique()\n"
   ]
  },
  {
   "cell_type": "code",
   "execution_count": 11,
   "id": "bd02766e",
   "metadata": {},
   "outputs": [
    {
     "data": {
      "text/plain": [
       "array(['Rainy', 'Sunny', nan, 'Cloudy', 'Snowy'], dtype=object)"
      ]
     },
     "execution_count": 11,
     "metadata": {},
     "output_type": "execute_result"
    }
   ],
   "source": [
    "df['Weather Condition'].unique()"
   ]
  },
  {
   "cell_type": "code",
   "execution_count": 5,
   "id": "9147cf65",
   "metadata": {},
   "outputs": [
    {
     "data": {
      "text/plain": [
       "array(['S001', 'S002', 'S003', 'S004', 'S005'], dtype=object)"
      ]
     },
     "execution_count": 5,
     "metadata": {},
     "output_type": "execute_result"
    }
   ],
   "source": [
    "df['Store ID'].unique()"
   ]
  },
  {
   "cell_type": "code",
   "execution_count": 6,
   "id": "741a651f",
   "metadata": {},
   "outputs": [
    {
     "data": {
      "text/plain": [
       "array(['P0001', 'P0002', 'P0003', 'P0004', 'P0005', 'P0006', 'P0007',\n",
       "       'P0008', 'P0009', 'P0010', 'P0011', 'P0012', 'P0013', 'P0014',\n",
       "       'P0015', 'P0016', 'P0017', 'P0018', 'P0019', 'P0020'], dtype=object)"
      ]
     },
     "execution_count": 6,
     "metadata": {},
     "output_type": "execute_result"
    }
   ],
   "source": [
    "df['Product ID'].unique()"
   ]
  },
  {
   "cell_type": "markdown",
   "id": "99330ace",
   "metadata": {},
   "source": [
    "## `Store ID` and `Product ID` columns include a character prefix ('S' or 'P') before numeric codes.\n",
    "To convert these columns into numeric format suitable for modeling and analysis, we remove the prefix and cast them to float.\n",
    "Additionally, We converted the `Date` column into Datetime type"
   ]
  },
  {
   "cell_type": "code",
   "execution_count": 12,
   "id": "985be903",
   "metadata": {},
   "outputs": [
    {
     "name": "stdout",
     "output_type": "stream",
     "text": [
      "Date                  datetime64[ns]\n",
      "Store ID                     float64\n",
      "Product ID                   float64\n",
      "Category                      object\n",
      "Region                        object\n",
      "Inventory Level                int64\n",
      "Units Sold                     int64\n",
      "Units Ordered                float64\n",
      "Demand Forecast              float64\n",
      "Price                        float64\n",
      "Discount                       int64\n",
      "Weather Condition             object\n",
      "Holiday/Promotion            float64\n",
      "Competitor Pricing           float64\n",
      "Seasonality                   object\n",
      "dtype: object\n"
     ]
    }
   ],
   "source": [
    "# Convert Date column to datetime\n",
    "df['Date'] = pd.to_datetime(df['Date'])\n",
    "\n",
    "# Remove 'P' from Product ID and convert to float\n",
    "df['Product ID'] = df['Product ID'].astype(str).str.replace('P', '', regex=False).astype(float)\n",
    "\n",
    "# Remove the 'S' from Store ID and convert to float\n",
    "df['Store ID'] = df['Store ID'].astype(str).str.replace('S', '', regex=False).astype(float)\n",
    "\n",
    "# Check data types\n",
    "print(df.dtypes)\n"
   ]
  }
 ],
 "metadata": {
  "kernelspec": {
   "display_name": "base",
   "language": "python",
   "name": "python3"
  },
  "language_info": {
   "codemirror_mode": {
    "name": "ipython",
    "version": 3
   },
   "file_extension": ".py",
   "mimetype": "text/x-python",
   "name": "python",
   "nbconvert_exporter": "python",
   "pygments_lexer": "ipython3",
   "version": "3.12.7"
  }
 },
 "nbformat": 4,
 "nbformat_minor": 5
}
